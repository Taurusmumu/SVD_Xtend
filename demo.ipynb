{
 "cells": [
  {
   "cell_type": "markdown",
   "metadata": {},
   "source": [
    "### Run SVD text to video generation"
   ]
  },
  {
   "cell_type": "code",
   "execution_count": null,
   "metadata": {},
   "outputs": [],
   "source": [
    "import torch\n",
    "\n",
    "from pipelines.pipeline_stable_video_diffusion_text import StableVideoDiffusionPipeline\n",
    "from diffusers import UNetSpatioTemporalConditionModel\n",
    "from diffusers.utils import load_image, export_to_video\n",
    "from transformers import CLIPTextModel, CLIPTokenizer\n",
    "from xtend import EmbeddingProjection\n",
    "\n",
    "tokenizer = CLIPTokenizer.from_pretrained(\n",
    "    'laion/CLIP-ViT-H-14-laion2B-s32B-b79K'\n",
    ")\n",
    "text_encoder = CLIPTextModel.from_pretrained(\n",
    "    'laion/CLIP-ViT-H-14-laion2B-s32B-b79K', torch_dtype=torch.float16\n",
    ")\n",
    "unet = UNetSpatioTemporalConditionModel.from_pretrained(\n",
    "    \"/18940970966/diffusion_re/NEW_CODE/SVD_Xtend/outputs/checkpoint-11000/\",\n",
    "    subfolder=\"unet\",\n",
    "    low_cpu_mem_usage=True,\n",
    "    torch_dtype=torch.float16,\n",
    ")\n",
    "pipe = StableVideoDiffusionPipeline.from_pretrained(\n",
    "    \"stabilityai/stable-video-diffusion-img2vid-xt\",\n",
    "    unet=unet,\n",
    "    text_encoder=text_encoder,\n",
    "    tokenizer=tokenizer,\n",
    "    torch_dtype=torch.float16, variant=\"fp16\", local_files_only=True,\n",
    ")\n",
    "pipe.to(\"cuda\")"
   ]
  },
  {
   "cell_type": "code",
   "execution_count": null,
   "metadata": {},
   "outputs": [],
   "source": [
    "pipe.unet.embedding_projection = EmbeddingProjection(1024, 1024).cuda()"
   ]
  },
  {
   "cell_type": "code",
   "execution_count": null,
   "metadata": {},
   "outputs": [],
   "source": [
    "from safetensors import safe_open\n",
    "\n",
    "tensors = {}\n",
    "with safe_open(\"/18940970966/diffusion_re/NEW_CODE/SVD_Xtend/outputs/checkpoint-11000/unet/diffusion_pytorch_model.safetensors\", framework=\"pt\", device=0) as f:\n",
    "    for k in f.keys():\n",
    "        if 'embedding_projection' in k:\n",
    "            tensors[k.replace('embedding_projection.', '')] = f.get_tensor(k)"
   ]
  },
  {
   "cell_type": "code",
   "execution_count": null,
   "metadata": {},
   "outputs": [],
   "source": [
    "tensors.keys()"
   ]
  },
  {
   "cell_type": "code",
   "execution_count": null,
   "metadata": {},
   "outputs": [],
   "source": [
    "pipe.unet.embedding_projection.load_state_dict(tensors)"
   ]
  },
  {
   "cell_type": "code",
   "execution_count": null,
   "metadata": {},
   "outputs": [],
   "source": [
    "image = load_image('/18940970966/diffusion_re/NEW_CODE/SVD_Xtend/bdd100k/images/track/train/00a0f008-a315437f/00a0f008-a315437f-0000002.jpg')\n",
    "image = image.resize((1024, 576))\n",
    "\n",
    "generator = torch.manual_seed(123)\n",
    "frames = pipe(image,\n",
    "              prompt='a car driving on the road',\n",
    "              negative_prompt='',\n",
    "              height=576, \n",
    "              width=1024, \n",
    "              num_frames=16,\n",
    "              max_guidance_scale=10,\n",
    "              min_guidance_scale=7,\n",
    "              decode_chunk_size=8, generator=generator, motion_bucket_id=0, fps=7, noise_aug_strength=0.02, num_inference_steps=50).frames[0]\n",
    "\n",
    "export_to_video(frames, \"generated.mp4\", fps=7)"
   ]
  },
  {
   "cell_type": "code",
   "execution_count": null,
   "metadata": {},
   "outputs": [],
   "source": []
  }
 ],
 "metadata": {
  "kernelspec": {
   "display_name": "my_env",
   "language": "python",
   "name": "python3"
  },
  "language_info": {
   "codemirror_mode": {
    "name": "ipython",
    "version": 3
   },
   "file_extension": ".py",
   "mimetype": "text/x-python",
   "name": "python",
   "nbconvert_exporter": "python",
   "pygments_lexer": "ipython3",
   "version": "3.10.12"
  }
 },
 "nbformat": 4,
 "nbformat_minor": 2
}
